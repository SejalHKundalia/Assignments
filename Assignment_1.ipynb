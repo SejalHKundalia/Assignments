{
 "cells": [
  {
   "cell_type": "code",
   "execution_count": null,
   "id": "62d31c3a",
   "metadata": {},
   "outputs": [],
   "source": [
    "                                                ASSIGNMENT 1"
   ]
  },
  {
   "cell_type": "markdown",
   "id": "50e191e1",
   "metadata": {},
   "source": [
    "1.\tIn the below elements which of them are values or an expression? eg:- values can be integer or string and expressions will be mathematical operators.\n",
    "\n",
    "Answer: \n",
    "\n",
    "The values and the mathematical operators are:\n",
    "1)\tValues: ‘hello’, -87.8, 6\n",
    "2)\tExpressions: *, -, /, +"
   ]
  },
  {
   "cell_type": "markdown",
   "id": "7c1c70b2",
   "metadata": {},
   "source": [
    "2.\tWhat is the difference between string and variable?\n",
    "\n",
    "String is a value assigned to a variable. It is the collection of numbers, characters and symbols\n",
    "\n",
    "Variable is the entity that stores the information\n",
    "\n",
    "Ex: a_1 = “@123fgh”"
   ]
  },
  {
   "cell_type": "markdown",
   "id": "eed4c791",
   "metadata": {},
   "source": [
    "3.\tDescribe three different data types.\n",
    "\n",
    "Following are the three different data types:\n",
    "\n",
    "Integer: The data type stores the positive and the negative values\n",
    "Ex: \n",
    "A_1 = -1, -2, -3, 4, 5, 6\n",
    "\n",
    "Float: The data type stores floating point values or the real numbers.\n",
    "Ex:\n",
    "B_1 = 3.45\n",
    "\n",
    "Char: The datatype stores a single letter, digit, punctuation mark, symbol or a blank space.  \n",
    "Ex:   \n",
    "C_1 = ‘a’"
   ]
  },
  {
   "cell_type": "markdown",
   "id": "c7d00e44",
   "metadata": {},
   "source": [
    "4.\tWhat is an expression made up of? What do all expressions do?\n",
    "Expressions: The expressions are basically the output of the operations between the operands. They are evaluated on the basis of precedence of the operators.\n",
    "C =a/b *d +a"
   ]
  },
  {
   "cell_type": "markdown",
   "id": "03faf377",
   "metadata": {},
   "source": [
    "5.\tThis assignment statements, like spam = 10. What is the difference between an expression and a statement?\n",
    "Assignment statements like spam =10 , simply means the value 10 is assigned to the variable spam.\n",
    "Expressions statements are the one that are evaluated on the basis of the operators.\n",
    "Ex: A = (b/c) + d"
   ]
  },
  {
   "cell_type": "markdown",
   "id": "2922fc87",
   "metadata": {},
   "source": [
    "6.\tAfter running the following code, what does the variable bacon contain?\n",
    "bacon = 22\n",
    "bacon + 1\n",
    "Answer: 22\n",
    "    "
   ]
  },
  {
   "cell_type": "markdown",
   "id": "a5d20c40",
   "metadata": {},
   "source": [
    "7.\tWhat should the values of the following two terms be?\n",
    "‘spam’ + ‘spamspam’\n",
    "‘spam’ *3\n",
    "Answer:\n",
    "Output of both the expressions: spamspamspam"
   ]
  },
  {
   "cell_type": "markdown",
   "id": "a27ea369",
   "metadata": {},
   "source": [
    "8.\tWhy is eggs a valid variable name while 100 is invalid?\n",
    "You cannot assign a variable name as a number, the variable name should always start with the alphabet followed by the numbers(if need to include)\n",
    "Ex: a_10,  ab_c, test, abs"
   ]
  },
  {
   "cell_type": "markdown",
   "id": "96ad35a0",
   "metadata": {},
   "source": [
    "9.\tWhat three functions can be used to get the integer, floating-point number, or string\n",
    "version of a value?\n",
    "•\tint()\n",
    "•\tfloat()\n",
    "•\tstr()\n"
   ]
  },
  {
   "cell_type": "markdown",
   "id": "574bf4be",
   "metadata": {},
   "source": [
    "10.\tWhy does this expression cause an error? How can you fix it?\n",
    "‘I have eaten’ + 99 + ‘Burritos’\n",
    "The value 99 is integer so the concat operation is not possible.\n",
    "Solution: ‘I have eaten’ + ‘99’ + ‘Burritos’\n"
   ]
  }
 ],
 "metadata": {
  "kernelspec": {
   "display_name": "Python 3 (ipykernel)",
   "language": "python",
   "name": "python3"
  },
  "language_info": {
   "codemirror_mode": {
    "name": "ipython",
    "version": 3
   },
   "file_extension": ".py",
   "mimetype": "text/x-python",
   "name": "python",
   "nbconvert_exporter": "python",
   "pygments_lexer": "ipython3",
   "version": "3.9.12"
  }
 },
 "nbformat": 4,
 "nbformat_minor": 5
}
